{
 "cells": [
  {
   "cell_type": "markdown",
   "metadata": {},
   "source": [
    "# IMPORTS"
   ]
  },
  {
   "cell_type": "code",
   "execution_count": null,
   "metadata": {},
   "outputs": [],
   "source": [
    "import re\n",
    "import torch\n",
    "import warnings\n",
    "import numpy as np\n",
    "import pandas as pd\n",
    "from pathlib import Path\n",
    "\n",
    "from torch import nn\n",
    "from torch.utils.data import DataLoader\n",
    "\n",
    "from model import PaperModel\n",
    "from data import SalienceDataset\n",
    "\n",
    "import librosa\n",
    "import mirdata\n",
    "import mir_eval"
   ]
  },
  {
   "cell_type": "markdown",
   "metadata": {},
   "source": [
    "# CONSTANTS"
   ]
  },
  {
   "cell_type": "code",
   "execution_count": null,
   "metadata": {},
   "outputs": [],
   "source": [
    "DATA_DIR = Path(\"/Users/alexandre/mir_datasets/medleydb_pitch/\")\n",
    "EXP_DIR = Path(\"./EXPERIMENTS\")\n",
    "RESULT_DIR = Path(\"./RESULTS\")\n",
    "\n",
    "from utils import (\n",
    "    TARGET_SR,\n",
    "    BINS_PER_SEMITONE,\n",
    "    N_OCTAVES,\n",
    "    FMIN,\n",
    "    BINS_PER_OCTAVE,\n",
    "    N_BINS,\n",
    "    HOP_LENGTH,\n",
    "    N_TIME_FRAMES,\n",
    "    H_RANGE,\n",
    "    CQT_FREQUENCIES,\n",
    "    get_cqt_times,\n",
    "    compute_hcqt,\n",
    "    load_audio,\n",
    "    visualize\n",
    ")\n",
    "\n",
    "mirdata.initialize(\"medleydb_pitch\")\n",
    "\n",
    "SLICE_SIZE = 200"
   ]
  },
  {
   "cell_type": "markdown",
   "metadata": {},
   "source": [
    "# DATA"
   ]
  },
  {
   "cell_type": "code",
   "execution_count": null,
   "metadata": {},
   "outputs": [],
   "source": [
    "val_data = SalienceDataset(DATA_DIR/\"validation\", ratio=0.1)\n",
    "val_loader = DataLoader(val_data, batch_size=8, shuffle=False)"
   ]
  },
  {
   "cell_type": "markdown",
   "metadata": {},
   "source": [
    "# LOAD MODEL"
   ]
  },
  {
   "cell_type": "code",
   "execution_count": null,
   "metadata": {},
   "outputs": [],
   "source": [
    "MODEL_DIR = EXP_DIR/\"first_attempt_19082022_143140\"\n",
    "CKP_PATH = MODEL_DIR/\"ckp.pt\"\n",
    "MODEL_NAME = re.findall(r\"(.*)_\\d{8}_\\d{6}$\", MODEL_DIR.stem)[0]"
   ]
  },
  {
   "cell_type": "code",
   "execution_count": null,
   "metadata": {},
   "outputs": [],
   "source": [
    "model = PaperModel()\n",
    "model.load_state_dict(torch.load(CKP_PATH))"
   ]
  },
  {
   "cell_type": "markdown",
   "metadata": {},
   "source": [
    "# EVALUATE"
   ]
  },
  {
   "cell_type": "code",
   "execution_count": null,
   "metadata": {},
   "outputs": [],
   "source": [
    "def extract_freqs(transition_matrix, times, salience_2D):\n",
    "    pitch = librosa.sequence.viterbi(salience_2D.T, transition_matrix)\n",
    "    \n",
    "    pitch_hz = np.array([CQT_FREQUENCIES[f] for f in pitch])\n",
    "    salience_1D = np.array(\n",
    "        [salience_2D[i, f] for i, f in enumerate(pitch)]\n",
    "    )\n",
    "    \n",
    "    estimated_f0 = mirdata.annotations.F0Data(\n",
    "        times, \"s\", pitch_hz, \"hz\", salience_1D, \"likelihood\"\n",
    "    )\n",
    "    return estimated_f0.to_mir_eval()\n",
    "\n",
    "\n",
    "def evaluate(model, data):\n",
    "    model.eval()\n",
    "    \n",
    "    times_s = get_cqt_times(N_TIME_FRAMES)\n",
    "    transition_matrix = librosa.sequence.transition_local(N_BINS, len(H_RANGE))\n",
    "\n",
    "    results = {}\n",
    "\n",
    "    for batch in val_loader:\n",
    "        hcqt, target_saliences = batch\n",
    "        target_saliences = torch.transpose(target_saliences, 0, 2)\n",
    "        target_saliences = target_saliences[:, :, :, 0].T.detach().numpy().astype(float)\n",
    "        \n",
    "        predicted_saliences = model.predict(hcqt).detach().numpy().astype(float)[:, :, :, 0]\n",
    "        \n",
    "        for predicted_salience, target_salience in zip(\n",
    "            predicted_saliences, target_saliences\n",
    "        ):\n",
    "            est_times, est_freqs, est_voicing = extract_freqs(\n",
    "                transition_matrix,\n",
    "                times_s,\n",
    "                predicted_salience\n",
    "            )\n",
    "            target_times, target_freqs, target_voicing = extract_freqs(\n",
    "                transition_matrix,\n",
    "                times_s,\n",
    "                target_salience\n",
    "            )\n",
    "            \n",
    "            res = mir_eval.melody.evaluate(\n",
    "                    target_times, target_freqs, est_times, est_freqs, est_voicing=est_voicing\n",
    "                )\n",
    "            \n",
    "            for k, v in res.items():\n",
    "                if k in results:\n",
    "                    results[k].append(v)\n",
    "                else:\n",
    "                    results[k] = [v,]\n",
    "    \n",
    "    return results"
   ]
  },
  {
   "cell_type": "code",
   "execution_count": null,
   "metadata": {},
   "outputs": [],
   "source": [
    "results = evaluate(model, val_loader)"
   ]
  },
  {
   "cell_type": "code",
   "execution_count": null,
   "metadata": {},
   "outputs": [],
   "source": [
    "results_df = pd.DataFrame(\n",
    "    {\n",
    "        k: [np.mean(v),] for k, v in results.items()\n",
    "    }\n",
    ")\n",
    "results_df.index = [MODEL_NAME,]"
   ]
  },
  {
   "cell_type": "code",
   "execution_count": null,
   "metadata": {},
   "outputs": [],
   "source": [
    "results_df"
   ]
  },
  {
   "cell_type": "code",
   "execution_count": null,
   "metadata": {},
   "outputs": [],
   "source": [
    "results_df.to_csv(RESULT_DIR/f\"{MODEL_NAME}.csv\")"
   ]
  }
 ],
 "metadata": {
  "kernelspec": {
   "display_name": "Python 3.9.7 ('base')",
   "language": "python",
   "name": "python3"
  },
  "language_info": {
   "codemirror_mode": {
    "name": "ipython",
    "version": 3
   },
   "file_extension": ".py",
   "mimetype": "text/x-python",
   "name": "python",
   "nbconvert_exporter": "python",
   "pygments_lexer": "ipython3",
   "version": "3.9.7"
  },
  "orig_nbformat": 4,
  "vscode": {
   "interpreter": {
    "hash": "c6e4e9f98eb68ad3b7c296f83d20e6de614cb42e90992a65aa266555a3137d0d"
   }
  }
 },
 "nbformat": 4,
 "nbformat_minor": 2
}
