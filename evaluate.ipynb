{
 "cells": [
  {
   "cell_type": "markdown",
   "metadata": {},
   "source": [
    "# IMPORTS"
   ]
  },
  {
   "cell_type": "code",
   "execution_count": null,
   "metadata": {},
   "outputs": [],
   "source": [
    "import re\n",
    "import torch\n",
    "import warnings\n",
    "import numpy as np\n",
    "import pandas as pd\n",
    "from pathlib import Path\n",
    "\n",
    "from torch import nn\n",
    "from torch.utils.data import DataLoader\n",
    "\n",
    "from model import PaperModel\n",
    "from data import SalienceDataset\n",
    "\n",
    "import librosa\n",
    "import mirdata\n",
    "import mir_eval"
   ]
  },
  {
   "cell_type": "markdown",
   "metadata": {},
   "source": [
    "# CONSTANTS"
   ]
  },
  {
   "cell_type": "code",
   "execution_count": null,
   "metadata": {},
   "outputs": [],
   "source": [
    "DATA_DIR = Path(\"/Users/alexandre/mir_datasets/medleydb_pitch/\")\n",
    "EXP_DIR = Path(\"./EXPERIMENTS\")\n",
    "RESULT_DIR = Path(\"./RESULTS\")\n",
    "\n",
    "from utils import (\n",
    "    TARGET_SR,\n",
    "    BINS_PER_SEMITONE,\n",
    "    N_OCTAVES,\n",
    "    FMIN,\n",
    "    BINS_PER_OCTAVE,\n",
    "    N_BINS,\n",
    "    HOP_LENGTH,\n",
    "    N_TIME_FRAMES,\n",
    "    H_RANGE,\n",
    "    CQT_FREQUENCIES,\n",
    "    get_cqt_times,\n",
    "    compute_hcqt,\n",
    "    load_audio,\n",
    "    visualize,\n",
    "    evaluate\n",
    ")\n",
    "\n",
    "SLICE_SIZE = 200"
   ]
  },
  {
   "cell_type": "markdown",
   "metadata": {},
   "source": [
    "# DATA"
   ]
  },
  {
   "cell_type": "code",
   "execution_count": null,
   "metadata": {},
   "outputs": [],
   "source": [
    "val_data = SalienceDataset(DATA_DIR/\"validation\", ratio=0.1)\n",
    "val_loader = DataLoader(val_data, batch_size=8, shuffle=False)"
   ]
  },
  {
   "cell_type": "markdown",
   "metadata": {},
   "source": [
    "# LOAD MODEL"
   ]
  },
  {
   "cell_type": "code",
   "execution_count": null,
   "metadata": {},
   "outputs": [],
   "source": [
    "MODEL_DIR = EXP_DIR/\"first_attempt_19082022_143140\"\n",
    "CKP_PATH = MODEL_DIR/\"ckp.pt\"\n",
    "MODEL_NAME = re.findall(r\"(.*)_\\d{8}_\\d{6}$\", MODEL_DIR.stem)[0]"
   ]
  },
  {
   "cell_type": "code",
   "execution_count": null,
   "metadata": {},
   "outputs": [],
   "source": [
    "model = PaperModel()\n",
    "model.load_state_dict(torch.load(CKP_PATH))"
   ]
  },
  {
   "cell_type": "markdown",
   "metadata": {},
   "source": [
    "# EVALUATE"
   ]
  },
  {
   "cell_type": "code",
   "execution_count": null,
   "metadata": {},
   "outputs": [],
   "source": [
    "results = evaluate(model, val_loader)"
   ]
  },
  {
   "cell_type": "code",
   "execution_count": null,
   "metadata": {},
   "outputs": [],
   "source": [
    "results_df = pd.DataFrame(\n",
    "    {\n",
    "        k: [np.mean(v),] for k, v in results.items()\n",
    "    }\n",
    ")\n",
    "results_df.index = [MODEL_NAME,]"
   ]
  },
  {
   "cell_type": "code",
   "execution_count": null,
   "metadata": {},
   "outputs": [],
   "source": [
    "results_df"
   ]
  },
  {
   "cell_type": "code",
   "execution_count": null,
   "metadata": {},
   "outputs": [],
   "source": [
    "results_df.to_csv(RESULT_DIR/f\"{MODEL_NAME}.csv\")"
   ]
  }
 ],
 "metadata": {
  "kernelspec": {
   "display_name": "Python 3.9.7 ('base')",
   "language": "python",
   "name": "python3"
  },
  "language_info": {
   "codemirror_mode": {
    "name": "ipython",
    "version": 3
   },
   "file_extension": ".py",
   "mimetype": "text/x-python",
   "name": "python",
   "nbconvert_exporter": "python",
   "pygments_lexer": "ipython3",
   "version": "3.9.7"
  },
  "orig_nbformat": 4,
  "vscode": {
   "interpreter": {
    "hash": "c6e4e9f98eb68ad3b7c296f83d20e6de614cb42e90992a65aa266555a3137d0d"
   }
  }
 },
 "nbformat": 4,
 "nbformat_minor": 2
}
