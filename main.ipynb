{
 "cells": [
  {
   "cell_type": "markdown",
   "metadata": {},
   "source": [
    "# IMPORTS"
   ]
  },
  {
   "cell_type": "code",
   "execution_count": 1,
   "metadata": {},
   "outputs": [],
   "source": [
    "import json\n",
    "import torch\n",
    "import pickle\n",
    "import warnings\n",
    "import numpy as np\n",
    "from pathlib import Path\n",
    "from datetime import datetime\n",
    "\n",
    "from torch import nn\n",
    "from torch.utils.data import DataLoader\n",
    "from torch.utils.tensorboard import SummaryWriter\n",
    "\n",
    "from models import *\n",
    "from training import Trainer\n",
    "from data import SalienceDataset\n",
    "\n",
    "import librosa\n",
    "import mirdata\n",
    "import mir_eval\n",
    "import soundfile"
   ]
  },
  {
   "cell_type": "markdown",
   "metadata": {},
   "source": [
    "# CONSTANTS"
   ]
  },
  {
   "cell_type": "code",
   "execution_count": null,
   "metadata": {},
   "outputs": [],
   "source": [
    "DATA_DIR = Path(\"/Users/alexandre/mir_datasets/medleydb_pitch/\")\n",
    "\n",
    "from utils import (\n",
    "    TARGET_SR,\n",
    "    BINS_PER_SEMITONE,\n",
    "    N_OCTAVES,\n",
    "    FMIN,\n",
    "    BINS_PER_OCTAVE,\n",
    "    N_BINS,\n",
    "    HOP_LENGTH,\n",
    "    N_TIME_FRAMES,\n",
    "    CQT_FREQUENCIES,\n",
    "    get_cqt_times,\n",
    "    compute_hcqt,\n",
    "    load_audio,\n",
    "    visualize\n",
    ")"
   ]
  },
  {
   "cell_type": "code",
   "execution_count": null,
   "metadata": {},
   "outputs": [],
   "source": [
    "EXP_NAME = \"first_attempt\"\n",
    "EXP_DIR = Path(\"./EXPERIMENTS/\")\n",
    "TIMESTAMP = datetime.now().strftime(\"%d%m%Y_%H%M%S\")"
   ]
  },
  {
   "cell_type": "markdown",
   "metadata": {},
   "source": [
    "# HYPER PARAMETERS"
   ]
  },
  {
   "cell_type": "code",
   "execution_count": null,
   "metadata": {},
   "outputs": [],
   "source": [
    "LR = 1e-2\n",
    "WEIGHT_DECAY = 1e-4\n",
    "BATCH_SIZE = 64\n",
    "INPUT_DIM = train_data[0][0].size(0)\n",
    "DEVICE = \"cpu\"\n",
    "N_EPOCHS = 8\n",
    "RESIDUAL = False\n",
    "BILINEAR_INTERP = True\n",
    "\n",
    "HP = {\n",
    "    \"LR\": 1e-3,\n",
    "    \"WEIGHT_DECAY\": 1e-4,\n",
    "    \"BATCH_SIZE\": 32,\n",
    "    \"INPUT_DIM\": 5,\n",
    "    \"DEVICE\": \"cpu\",\n",
    "    \"N_EPOCHS\": 100,\n",
    "}"
   ]
  },
  {
   "cell_type": "code",
   "execution_count": null,
   "metadata": {},
   "outputs": [],
   "source": [
    "model = SalienceNetwork()\n",
    "loss = nn.BCEWithLogitsLoss()\n",
    "optim = torch.optim.Adam(lr=LR, params=model.parameters(), weight_decay=WEIGHT_DECAY)\n",
    "\n",
    "train_data = SalienceDataset(DATA_DIR/\"train\")\n",
    "train_loader = DataLoader(train_data, batch_size=BATCH_SIZE, shuffle=True)\n",
    "val_data = SalienceDataset(DATA_DIR/\"validation\")\n",
    "val_loader = DataLoader(val_data, batch_size=BATCH_SIZE, shuffle=True)"
   ]
  },
  {
   "cell_type": "code",
   "execution_count": null,
   "metadata": {},
   "outputs": [],
   "source": [
    "EXP_FOLDER = EXP_DIR/f\"{EXP_NAME}_{TIMESTAMP}\"\n",
    "EXP_FOLDER.mkdir(parents=True, exist_ok=True)\n",
    "SUMMARY_WRITER = SummaryWriter(str(EXP_FOLDER/EXP_NAME))\n",
    "\n",
    "with open(EXP_FOLDER/\"hyper_parameters.json\", \"w\") as f:\n",
    "    json.dump(HP, f)\n",
    "with open(EXP_FOLDER/\"model.p\", 'wb') as f:\n",
    "    pickle.dump(model, f)"
   ]
  },
  {
   "cell_type": "markdown",
   "metadata": {},
   "source": [
    "# TRAIN"
   ]
  },
  {
   "cell_type": "code",
   "execution_count": null,
   "metadata": {},
   "outputs": [],
   "source": [
    "trainer = Trainer(\n",
    "    model=model,\n",
    "    train_data=train_loader,\n",
    "    val_data=val_loader,\n",
    "    loss_cls=loss,\n",
    "    optimizer=optim,\n",
    "    device=DEVICE,\n",
    "    summary_writer=SUMMARY_WRITER,\n",
    "    ckp_path=EXP_FOLDER\n",
    ")"
   ]
  },
  {
   "cell_type": "code",
   "execution_count": null,
   "metadata": {},
   "outputs": [],
   "source": [
    "warnings.simplefilter('ignore')\n",
    "trainer.train(N_EPOCHS)"
   ]
  }
 ],
 "metadata": {
  "kernelspec": {
   "display_name": "Python 3.9.7 ('base')",
   "language": "python",
   "name": "python3"
  },
  "language_info": {
   "codemirror_mode": {
    "name": "ipython",
    "version": 3
   },
   "file_extension": ".py",
   "mimetype": "text/x-python",
   "name": "python",
   "nbconvert_exporter": "python",
   "pygments_lexer": "ipython3",
   "version": "3.9.7"
  },
  "orig_nbformat": 4,
  "vscode": {
   "interpreter": {
    "hash": "c6e4e9f98eb68ad3b7c296f83d20e6de614cb42e90992a65aa266555a3137d0d"
   }
  }
 },
 "nbformat": 4,
 "nbformat_minor": 2
}
