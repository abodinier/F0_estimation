{
 "cells": [
  {
   "cell_type": "markdown",
   "metadata": {},
   "source": [
    "# IMPORTS"
   ]
  },
  {
   "cell_type": "code",
   "execution_count": null,
   "metadata": {},
   "outputs": [],
   "source": [
    "import json\n",
    "import torch\n",
    "import pickle\n",
    "import warnings\n",
    "import numpy as np\n",
    "from pathlib import Path\n",
    "from datetime import datetime\n",
    "\n",
    "from torch import nn\n",
    "from torch.utils.data import DataLoader\n",
    "from torch.utils.tensorboard import SummaryWriter\n",
    "\n",
    "from model import PaperModel\n",
    "from training import Trainer\n",
    "from data import SalienceDataset\n",
    "\n",
    "import librosa\n",
    "import mirdata\n",
    "import mir_eval\n",
    "import soundfile"
   ]
  },
  {
   "cell_type": "markdown",
   "metadata": {},
   "source": [
    "# CONSTANTS"
   ]
  },
  {
   "cell_type": "code",
   "execution_count": null,
   "metadata": {},
   "outputs": [],
   "source": [
    "DATA_DIR = Path(\"/Users/alexandre/mir_datasets/medleydb_pitch/\")\n",
    "\n",
    "from utils import (\n",
    "    TARGET_SR,\n",
    "    BINS_PER_SEMITONE,\n",
    "    N_OCTAVES,\n",
    "    FMIN,\n",
    "    BINS_PER_OCTAVE,\n",
    "    N_BINS,\n",
    "    HOP_LENGTH,\n",
    "    N_TIME_FRAMES,\n",
    "    CQT_FREQUENCIES,\n",
    "    get_cqt_times,\n",
    "    compute_hcqt,\n",
    "    load_audio,\n",
    "    visualize\n",
    ")"
   ]
  },
  {
   "cell_type": "code",
   "execution_count": null,
   "metadata": {},
   "outputs": [],
   "source": [
    "EXP_NAME = \"first_attempt\"\n",
    "EXP_DIR = Path(\"./EXPERIMENTS/\")\n",
    "\n",
    "TIMESTAMP = datetime.now().strftime(\"%d%m%Y_%H%M%S\")\n",
    "\n",
    "EXP_FOLDER = EXP_DIR/f\"{EXP_NAME}_{TIMESTAMP}\"\n",
    "EXP_FOLDER.mkdir(parents=True, exist_ok=True)\n",
    "SUMMARY_WRITER = SummaryWriter(str(EXP_FOLDER/EXP_NAME))"
   ]
  },
  {
   "cell_type": "markdown",
   "metadata": {},
   "source": [
    "# HYPER PARAMETERS"
   ]
  },
  {
   "cell_type": "code",
   "execution_count": null,
   "metadata": {},
   "outputs": [],
   "source": [
    "LR = 1e-2\n",
    "WEIGHT_DECAY = 1e-4\n",
    "BATCH_SIZE = 32\n",
    "INPUT_DIM = 5\n",
    "DEVICE = \"cpu\"\n",
    "N_EPOCHS = 100\n",
    "\n",
    "HP = {\n",
    "    \"LR\": 1e-3,\n",
    "    \"WEIGHT_DECAY\": 1e-4,\n",
    "    \"BATCH_SIZE\": 32,\n",
    "    \"INPUT_DIM\": 5,\n",
    "    \"DEVICE\": \"cpu\",\n",
    "    \"N_EPOCHS\": 100,\n",
    "}\n",
    "with open(EXP_FOLDER/\"hyper_parameters.json\", \"w\") as f:\n",
    "    json.dump(HP, f)"
   ]
  },
  {
   "cell_type": "code",
   "execution_count": null,
   "metadata": {},
   "outputs": [],
   "source": [
    "model = PaperModel()\n",
    "loss = nn.BCEWithLogitsLoss()\n",
    "optim = torch.optim.Adam(lr=LR, params=model.parameters(), weight_decay=WEIGHT_DECAY)\n",
    "\n",
    "train_data = SalienceDataset(DATA_DIR/\"train\", ratio=0.1)\n",
    "train_loader = DataLoader(train_data, batch_size=BATCH_SIZE, shuffle=True)\n",
    "val_data = SalienceDataset(DATA_DIR/\"validation\", ratio=0.01)\n",
    "val_loader = DataLoader(val_data, batch_size=BATCH_SIZE, shuffle=True)"
   ]
  },
  {
   "cell_type": "code",
   "execution_count": null,
   "metadata": {},
   "outputs": [],
   "source": [
    "with open(EXP_FOLDER/\"model.p\", 'wb') as f: pickle.dump(model, f)"
   ]
  },
  {
   "cell_type": "markdown",
   "metadata": {},
   "source": [
    "# TRAIN"
   ]
  },
  {
   "cell_type": "code",
   "execution_count": null,
   "metadata": {},
   "outputs": [],
   "source": [
    "trainer = Trainer(\n",
    "    model=model,\n",
    "    train_data=train_loader,\n",
    "    val_data=val_loader,\n",
    "    loss_cls=loss,\n",
    "    optimizer=optim,\n",
    "    device=DEVICE,\n",
    "    summary_writer=SUMMARY_WRITER,\n",
    "    ckp_path=EXP_FOLDER\n",
    ")"
   ]
  },
  {
   "cell_type": "code",
   "execution_count": null,
   "metadata": {},
   "outputs": [],
   "source": [
    "warnings.simplefilter('ignore')\n",
    "trainer.train(N_EPOCHS)"
   ]
  },
  {
   "cell_type": "markdown",
   "metadata": {},
   "source": [
    "# LOAD MODEL"
   ]
  },
  {
   "cell_type": "code",
   "execution_count": null,
   "metadata": {},
   "outputs": [],
   "source": [
    "model = PaperModel()\n",
    "model.load_state_dict(torch.load(\"./EXPERIMENTS/first_attempt_19082022_143140/ckp.pt\"))"
   ]
  },
  {
   "cell_type": "code",
   "execution_count": null,
   "metadata": {},
   "outputs": [],
   "source": [
    "cqt, salience = train_data[30]\n",
    "cqt = cqt[np.newaxis, :, :, :]\n",
    "salience = salience[np.newaxis, :, :, :]"
   ]
  },
  {
   "cell_type": "code",
   "execution_count": null,
   "metadata": {},
   "outputs": [],
   "source": [
    "visualize(model, cqt, salience, n=1);"
   ]
  },
  {
   "cell_type": "code",
   "execution_count": null,
   "metadata": {},
   "outputs": [],
   "source": [
    "output = model.predict(cqt)[0, :, :, 0].T.detach().numpy().astype(float)"
   ]
  },
  {
   "cell_type": "code",
   "execution_count": null,
   "metadata": {},
   "outputs": [],
   "source": [
    "salience = salience[0, :, :, 0].T.detach().numpy().astype(float)"
   ]
  },
  {
   "cell_type": "code",
   "execution_count": null,
   "metadata": {},
   "outputs": [],
   "source": [
    "print(output.shape)\n",
    "print(salience.shape)"
   ]
  },
  {
   "cell_type": "code",
   "execution_count": null,
   "metadata": {},
   "outputs": [],
   "source": [
    "times = get_cqt_times(50)\n",
    "mirdata.initialize(\"medleydb_pitch\");"
   ]
  },
  {
   "cell_type": "code",
   "execution_count": null,
   "metadata": {},
   "outputs": [],
   "source": [
    "transition_matrix = librosa.sequence.transition_local(216, 5)\n",
    "predicted_pitch_idx = librosa.sequence.viterbi(prob=output, transition=transition_matrix)\n",
    "target_pitch_idx = librosa.sequence.viterbi(prob=salience, transition=transition_matrix)\n",
    "\n",
    "# compute f0 and amplitudes using predicted indexes\n",
    "predicted_pitch = np.array([CQT_FREQUENCIES[f] for f in predicted_pitch_idx])\n",
    "predicted_salience = np.array(\n",
    "    [output[f, i] for i, f in enumerate(predicted_pitch_idx)]\n",
    ")\n",
    "target_pitch = np.array([CQT_FREQUENCIES[f] for f in target_pitch_idx])\n",
    "target_salience = np.array(\n",
    "    [salience[f, i] for i, f in enumerate(target_pitch_idx)]\n",
    ")"
   ]
  },
  {
   "cell_type": "code",
   "execution_count": null,
   "metadata": {},
   "outputs": [],
   "source": [
    "estimated_f0 = mirdata.annotations.F0Data(\n",
    "    times, \"s\", predicted_pitch, \"hz\", predicted_salience, \"likelihood\"\n",
    ")\n",
    "\n",
    "est_times, est_freqs, est_voicing = estimated_f0.to_mir_eval()"
   ]
  },
  {
   "cell_type": "code",
   "execution_count": null,
   "metadata": {},
   "outputs": [],
   "source": [
    "target_f0 = mirdata.annotations.F0Data(\n",
    "    times, \"s\", target_pitch, \"hz\", target_salience, \"likelihood\"\n",
    ")\n",
    "\n",
    "target_times, target_freqs, target_voicing = target_f0.to_mir_eval()"
   ]
  },
  {
   "cell_type": "code",
   "execution_count": null,
   "metadata": {},
   "outputs": [],
   "source": [
    "mir_eval.melody.evaluate(\n",
    "    target_times, target_freqs, est_times, est_freqs, est_voicing=est_voicing\n",
    ")"
   ]
  }
 ],
 "metadata": {
  "kernelspec": {
   "display_name": "Python 3.9.7 ('base')",
   "language": "python",
   "name": "python3"
  },
  "language_info": {
   "codemirror_mode": {
    "name": "ipython",
    "version": 3
   },
   "file_extension": ".py",
   "mimetype": "text/x-python",
   "name": "python",
   "nbconvert_exporter": "python",
   "pygments_lexer": "ipython3",
   "version": "3.9.7"
  },
  "orig_nbformat": 4,
  "vscode": {
   "interpreter": {
    "hash": "c6e4e9f98eb68ad3b7c296f83d20e6de614cb42e90992a65aa266555a3137d0d"
   }
  }
 },
 "nbformat": 4,
 "nbformat_minor": 2
}
